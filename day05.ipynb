{
 "cells": [
  {
   "cell_type": "markdown",
   "metadata": {},
   "source": [
    "### exercice 00"
   ]
  },
  {
   "cell_type": "code",
   "execution_count": 2,
   "metadata": {},
   "outputs": [
    {
     "name": "stdout",
     "output_type": "stream",
     "text": [
      "let's go already\n"
     ]
    }
   ],
   "source": [
    "import pandas\n",
    "import matplotlib\n",
    "print (\"let's go already\")"
   ]
  },
  {
   "cell_type": "markdown",
   "metadata": {},
   "source": [
    "### exercice 01"
   ]
  },
  {
   "cell_type": "code",
   "execution_count": 6,
   "metadata": {},
   "outputs": [
    {
     "name": "stdout",
     "output_type": "stream",
     "text": [
      "         date    open    high     low   close    volume\n",
      "0  1566576000  137.19  138.35  132.80  133.39  38515386\n",
      "1  1566835200  134.99  135.56  133.90  135.45  20325271\n",
      "2  1566921600  136.39  136.72  134.66  135.74  23115635\n",
      "3  1567008000  134.88  135.76  133.55  135.56  17410828\n",
      "           date    open    high     low   close    volume\n",
      "362  1612195200  235.06  242.50  232.43  239.65  33314193\n",
      "363  1612281600  241.30  242.31  238.69  239.51  25916337\n"
     ]
    }
   ],
   "source": [
    "import pandas as pd\n",
    "\n",
    "df = pd.read_csv('stock.csv')\n",
    "\n",
    "# Imprimez les 4 premières lignes\n",
    "print(df.head(4))\n",
    "\n",
    "# Imprimez les 2 dernières lignes\n",
    "print(df.tail(2))\n"
   ]
  },
  {
   "cell_type": "markdown",
   "metadata": {},
   "source": [
    "### exercice 01bis"
   ]
  },
  {
   "cell_type": "code",
   "execution_count": 7,
   "metadata": {},
   "outputs": [
    {
     "name": "stdout",
     "output_type": "stream",
     "text": [
      "Total des lignes : 364\n",
      "Noms des colonnes : ['date', 'open', 'high', 'low', 'close', 'volume']\n",
      "Nombre de valeurs non nulles dans chaque colonne :\n",
      " date      364\n",
      "open      364\n",
      "high      364\n",
      "low       364\n",
      "close     364\n",
      "volume    364\n",
      "dtype: int64\n",
      "Types de valeur dans chaque colonne :\n",
      " date        int64\n",
      "open      float64\n",
      "high      float64\n",
      "low       float64\n",
      "close     float64\n",
      "volume      int64\n",
      "dtype: object\n"
     ]
    }
   ],
   "source": [
    "# Affiche le total des lignes\n",
    "total_lignes = len(df)\n",
    "print(\"Total des lignes :\", total_lignes)\n",
    "\n",
    "# Affiche le nom de chaque colonne\n",
    "noms_colonnes = df.columns.tolist()\n",
    "print(\"Noms des colonnes :\", noms_colonnes)\n",
    "\n",
    "# Affiche le nombre de valeurs non nulles dans chaque colonne\n",
    "valeurs_non_nulles = df.count()\n",
    "print(\"Nombre de valeurs non nulles dans chaque colonne :\\n\", valeurs_non_nulles)\n",
    "\n",
    "# Affiche le type de valeur dans chaque colonne\n",
    "types_colonnes = df.dtypes\n",
    "print(\"Types de valeur dans chaque colonne :\\n\", types_colonnes)"
   ]
  },
  {
   "cell_type": "markdown",
   "metadata": {},
   "source": [
    "### exercice 01ter"
   ]
  },
  {
   "cell_type": "code",
   "execution_count": 9,
   "metadata": {},
   "outputs": [
    {
     "name": "stdout",
     "output_type": "stream",
     "text": [
      "statistics summary of numerical columns:\n",
      "                date        open        high         low       close  \\\n",
      "count  3.640000e+02  364.000000  364.000000  364.000000  364.000000   \n",
      "mean   1.589411e+09  182.654588  184.780604  180.481016  182.728214   \n",
      "std    1.318049e+07   30.368445   30.716112   30.031516   30.381187   \n",
      "min    1.566576e+09  134.880000  135.560000  132.520000  133.390000   \n",
      "25%    1.578046e+09  152.272500  155.652500  151.117500  153.780000   \n",
      "50%    1.589429e+09  184.100000  185.850000  182.390000  183.670000   \n",
      "75%    1.600812e+09  211.537500  214.122500  208.967500  211.517500   \n",
      "max    1.612282e+09  241.300000  242.640000  238.690000  239.650000   \n",
      "\n",
      "             volume  \n",
      "count  3.640000e+02  \n",
      "mean   3.365621e+07  \n",
      "std    1.616370e+07  \n",
      "min    1.016120e+05  \n",
      "25%    2.305799e+07  \n",
      "50%    2.947899e+07  \n",
      "75%    3.735675e+07  \n",
      "max    9.707356e+07  \n"
     ]
    }
   ],
   "source": [
    "# Obtenez un résumé statistique des colonnes numériques\n",
    "resume_statistique = df.describe()\n",
    "\n",
    "# Imprimez le résumé statistique\n",
    "print(\"statistics summary of numerical columns:\\n\", resume_statistique)\n"
   ]
  },
  {
   "cell_type": "markdown",
   "metadata": {},
   "source": [
    "### exercice 02"
   ]
  },
  {
   "cell_type": "code",
   "execution_count": 19,
   "metadata": {},
   "outputs": [
    {
     "name": "stdout",
     "output_type": "stream",
     "text": [
      "date      1.571846e+09\n",
      "open      1.368800e+02\n",
      "high      1.374500e+02\n",
      "low       1.356100e+02\n",
      "close     1.372400e+02\n",
      "volume    3.138031e+07\n",
      "Name: 42, dtype: float64\n",
      "\n",
      " a list of the unique values contained in the `island` column :\n",
      " ['Torgersen' 'Biscoe' 'Dream' nan]\n"
     ]
    }
   ],
   "source": [
    "df2 = pd.read_csv('penguins.csv')\n",
    "\n",
    "print(df.iloc[42])\n",
    "\n",
    "# Affichez la liste des valeurs uniques dans la colonne 'island'\n",
    "valeurs_uniques_island = df2['island'].unique()\n",
    "print(\"\\n a list of the unique values contained in the `island` column :\\n\", valeurs_uniques_island)"
   ]
  },
  {
   "cell_type": "markdown",
   "metadata": {},
   "source": [
    "### exercice 02bis"
   ]
  },
  {
   "cell_type": "code",
   "execution_count": 29,
   "metadata": {},
   "outputs": [
    {
     "name": "stdout",
     "output_type": "stream",
     "text": [
      "Nombre de valeurs dans 'sex' sous forme de dict :\n",
      " {'MALE': 169, 'FEMALE': 165, '.': 1}\n",
      "\n",
      "Toutes les valeurs dans 'species' triées par ordre décroissant :\n",
      " 345    Gentoo\n",
      "266    Gentoo\n",
      "252    Gentoo\n",
      "253    Gentoo\n",
      "254    Gentoo\n",
      "        ...  \n",
      "101    Adelie\n",
      "100    Adelie\n",
      "99     Adelie\n",
      "0      Adelie\n",
      "344       NaN\n",
      "Name: species, Length: 346, dtype: object\n",
      "\n",
      "Valeurs aux lignes 3 et 14, dans la première et la dernière colonne :\n",
      "    species   sex\n",
      "3   Adelie   NaN\n",
      "14  Adelie  MALE\n",
      "\n",
      "Sexe et espèce des manchots de Torgersen pesant plus de 4,5 kg :\n",
      "      sex species\n",
      "7   MALE  Adelie\n",
      "81  MALE  Adelie\n"
     ]
    }
   ],
   "source": [
    "# Compter le nombre de valeurs uniques dans 'sex' et créer un dictionnaire\n",
    "dict_sex_count = df2['sex'].value_counts().to_dict()\n",
    "print(\"Nombre de valeurs dans 'sex' sous forme de dict :\\n\", dict_sex_count)\n",
    "\n",
    "# Trier les valeurs uniques dans 'species' par ordre décroissant\n",
    "sorted_species = df2['species'].sort_values(ascending=False)\n",
    "print(\"\\nToutes les valeurs dans 'species' triées par ordre décroissant :\\n\", sorted_species)\n",
    "\n",
    "# Accéder aux valeurs aux lignes 3 et 14, dans la première et la dernière colonne\n",
    "valeurs_lignes_3_et_14 = df2.iloc[[3, 14], [0, -1]]\n",
    "print(\"\\nValeurs aux lignes 3 et 14, dans la première et la dernière colonne :\\n\", valeurs_lignes_3_et_14)\n",
    "\n",
    "# Sélectionner les lignes correspondant à Torgersen et un poids supérieur à 4,5 kg\n",
    "resultat = df2[(df2['island'] == 'Torgersen') & (df2['body_mass_g'] > 4500)][['sex', 'species']]\n",
    "print(\"\\nSexe et espèce des manchots de Torgersen pesant plus de 4,5 kg :\\n\", resultat)"
   ]
  },
  {
   "cell_type": "markdown",
   "metadata": {},
   "source": [
    "### exercice 02ter"
   ]
  },
  {
   "cell_type": "code",
   "execution_count": 33,
   "metadata": {},
   "outputs": [
    {
     "name": "stdout",
     "output_type": "stream",
     "text": [
      "Dimensions du DataFrame après la suppression :  (344, 7)\n",
      "Dimensions du DataFrame après l'ajout de la colonne 'body_mass_p' :  (344, 8)\n",
      "Les 5 premières lignes du DataFrame :\n",
      "   species     island  culmen_length_mm  culmen_depth_mm  flipper_length_mm  \\\n",
      "0  Adelie  Torgersen              39.1             18.7              181.0   \n",
      "1  Adelie  Torgersen              39.5             17.4              186.0   \n",
      "2  Adelie  Torgersen              40.3             18.0              195.0   \n",
      "3  Adelie  Torgersen               NaN              NaN                NaN   \n",
      "4  Adelie  Torgersen              36.7             19.3              193.0   \n",
      "\n",
      "   body_mass_g     sex  body_mass_p  \n",
      "0       3750.0    MALE     8.267325  \n",
      "1       3800.0  FEMALE     8.377556  \n",
      "2       3250.0  FEMALE     7.165015  \n",
      "3          NaN     NaN          NaN  \n",
      "4       3450.0  FEMALE     7.605939  \n"
     ]
    },
    {
     "name": "stderr",
     "output_type": "stream",
     "text": [
      "C:\\Users\\JadeS\\AppData\\Local\\Temp\\ipykernel_19488\\3367568009.py:8: SettingWithCopyWarning: \n",
      "A value is trying to be set on a copy of a slice from a DataFrame.\n",
      "Try using .loc[row_indexer,col_indexer] = value instead\n",
      "\n",
      "See the caveats in the documentation: https://pandas.pydata.org/pandas-docs/stable/user_guide/indexing.html#returning-a-view-versus-a-copy\n",
      "  penguins_df['body_mass_p'] = penguins_df['body_mass_g'] * 0.00220462\n"
     ]
    }
   ],
   "source": [
    "# Chargez les données du fichier CSV dans un DataFrame\n",
    "penguins_df = pd.read_csv('penguins.csv')\n",
    "\n",
    "# Affichez les dimensions du DataFrame avant les modifications\n",
    "print(\"Dimensions du DataFrame avant les modifications : \", penguins_df.shape)\n",
    "\n",
    "# Supprimez les 2 dernières lignes\n",
    "penguins_df = penguins_df.iloc[:-2]\n",
    "\n",
    "# Affichez les dimensions du DataFrame après la suppression\n",
    "print(\"Dimensions du DataFrame après la suppression : \", penguins_df.shape)\n",
    "\n",
    "# Ajoutez une colonne 'body_mass_p' pour la masse en livres\n",
    "penguins_df['body_mass_p'] = penguins_df['body_mass_g'] * 0.00220462\n",
    "\n",
    "# Affichez les dimensions du DataFrame après l'ajout de la colonne\n",
    "print(\"Dimensions du DataFrame après l'ajout de la colonne 'body_mass_p' : \", penguins_df.shape)\n",
    "\n",
    "# Affichez les 5 premières lignes du DataFrame pour vérification\n",
    "print(\"Les 5 premières lignes du DataFrame :\\n\", penguins_df.head())"
   ]
  }
 ],
 "metadata": {
  "kernelspec": {
   "display_name": "Python 3",
   "language": "python",
   "name": "python3"
  },
  "language_info": {
   "codemirror_mode": {
    "name": "ipython",
    "version": 3
   },
   "file_extension": ".py",
   "mimetype": "text/x-python",
   "name": "python",
   "nbconvert_exporter": "python",
   "pygments_lexer": "ipython3",
   "version": "3.11.5"
  },
  "orig_nbformat": 4
 },
 "nbformat": 4,
 "nbformat_minor": 2
}
